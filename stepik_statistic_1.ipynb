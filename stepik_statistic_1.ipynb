{
 "cells": [
  {
   "cell_type": "code",
   "execution_count": 2,
   "metadata": {},
   "outputs": [
    {
     "name": "stdout",
     "output_type": "stream",
     "text": [
      "Мода = 170.5\n"
     ]
    }
   ],
   "source": [
    "import numpy as np\n",
    "s = np.array([185, 175, 170, 169, 171, 175, 157, 172, 170, 172, 167, 173, 168, 167, 166,\n",
    "              167, 169, 172, 177, 178, 165, 161, 179, 159, 164, 178, 172, 170, 173, 171])\n",
    "print(f'Мода = {np.median(s)}')"
   ]
  },
  {
   "cell_type": "code",
   "execution_count": 3,
   "metadata": {},
   "outputs": [
    {
     "name": "stdout",
     "output_type": "stream",
     "text": [
      "Collecting scipy\n",
      "\u001b[?25l  Downloading https://files.pythonhosted.org/packages/58/4f/11f34cfc57ead25752a7992b069c36f5d18421958ebd6466ecd849aeaf86/scipy-1.7.3-cp37-cp37m-manylinux_2_12_x86_64.manylinux2010_x86_64.whl (38.1MB)\n",
      "\u001b[K     |████████████████████████████████| 38.1MB 1.2MB/s eta 0:00:01\n",
      "\u001b[?25hRequirement already satisfied: numpy<1.23.0,>=1.16.5 in /home/malik/snap/jupyter/common/lib/python3.7/site-packages (from scipy) (1.21.6)\n",
      "Installing collected packages: scipy\n",
      "Successfully installed scipy-1.7.3\n"
     ]
    }
   ],
   "source": [
    "! pip install scipy"
   ]
  },
  {
   "cell_type": "code",
   "execution_count": 4,
   "metadata": {},
   "outputs": [
    {
     "name": "stdout",
     "output_type": "stream",
     "text": [
      "Мода = ModeResult(mode=array([172]), count=array([4]))\n",
      "Медиана = 170.5\n",
      "Среднее = 170.4\n"
     ]
    }
   ],
   "source": [
    "import numpy as np\n",
    "from scipy import stats\n",
    "s = np.array([185, 175, 170, 169, 171, 175, 157, 172, 170, 172, 167, 173, 168, 167, 166,\n",
    "              167, 169, 172, 177, 178, 165, 161, 179, 159, 164, 178, 172, 170, 173, 171])\n",
    "print(f'Мода = {stats.mode(s)}')\n",
    "print(f'Медиана = {np.median(s)}')\n",
    "print(f'Среднее = {np.mean(s)}')"
   ]
  },
  {
   "cell_type": "code",
   "execution_count": 8,
   "metadata": {},
   "outputs": [
    {
     "name": "stdout",
     "output_type": "stream",
     "text": [
      "Collecting pip\n",
      "\u001b[?25l  Downloading https://files.pythonhosted.org/packages/1f/2c/d9626f045e7b49a6225c6b09257861f24da78f4e5f23af2ddbdf852c99b8/pip-22.2.2-py3-none-any.whl (2.0MB)\n",
      "\u001b[K     |████████████████████████████████| 2.0MB 616kB/s eta 0:00:01\n",
      "\u001b[?25hCollecting setuptools\n",
      "  Using cached https://files.pythonhosted.org/packages/bd/b4/f120561bc94a04bae5d71ea86fe2c7d97f57ab89635b4739ec4abceda92d/setuptools-65.4.1-py3-none-any.whl\n",
      "Collecting wheel\n",
      "  Using cached https://files.pythonhosted.org/packages/27/d6/003e593296a85fd6ed616ed962795b2f87709c3eee2bca4f6d0fe55c6d00/wheel-0.37.1-py2.py3-none-any.whl\n",
      "Installing collected packages: pip, setuptools, wheel\n",
      "Successfully installed pip-22.2.2 setuptools-65.4.1 wheel-0.37.1\n"
     ]
    }
   ],
   "source": [
    "! pip install --upgrade pip setuptools wheel"
   ]
  },
  {
   "cell_type": "code",
   "execution_count": null,
   "metadata": {},
   "outputs": [
    {
     "name": "stdout",
     "output_type": "stream",
     "text": [
      "WARNING: pip is being invoked by an old script wrapper. This will fail in a future version of pip.\n",
      "Please see https://github.com/pypa/pip/issues/5599 for advice on fixing the underlying issue.\n",
      "To avoid this problem you can invoke Python with '-m pip' instead of running pip directly.\n",
      "Collecting pandas\n",
      "  Downloading pandas-1.3.5-cp37-cp37m-manylinux_2_17_x86_64.manylinux2014_x86_64.whl (11.3 MB)\n",
      "\u001b[2K     \u001b[38;2;114;156;31m━━━━━━━━━━━━━━━━━━━━━━━━━━━━━━━━━━━━━━━━\u001b[0m \u001b[32m11.3/11.3 MB\u001b[0m \u001b[31m2.8 MB/s\u001b[0m eta \u001b[36m0:00:00\u001b[0mm eta \u001b[36m0:00:01\u001b[0m[36m0:00:01\u001b[0m\n",
      "\u001b[?25hRequirement already satisfied: python-dateutil>=2.7.3 in /snap/jupyter/6/lib/python3.7/site-packages (from pandas) (2.8.0)\n",
      "Collecting pytz>=2017.3\n",
      "  Using cached pytz-2022.4-py2.py3-none-any.whl (500 kB)\n",
      "Requirement already satisfied: numpy>=1.17.3 in /home/malik/snap/jupyter/common/lib/python3.7/site-packages (from pandas) (1.21.6)\n",
      "Requirement already satisfied: six>=1.5 in /snap/jupyter/6/lib/python3.7/site-packages (from python-dateutil>=2.7.3->pandas) (1.12.0)\n",
      "Installing collected packages: pytz, pandas\n"
     ]
    }
   ],
   "source": [
    "! pip install pandas"
   ]
  },
  {
   "cell_type": "code",
   "execution_count": 1,
   "metadata": {},
   "outputs": [
    {
     "name": "stdout",
     "output_type": "stream",
     "text": [
      "Размах = 28\n",
      "Проверка размаха: 28\n"
     ]
    }
   ],
   "source": [
    "import numpy as np \n",
    "s = np.array([185, 175, 170, 169, 171, 175, 157, 172, 170, 172, 167, 173, 168, 167, 166,\n",
    "              167, 169, 172, 177, 178, 165, 161, 179, 159, 164, 178, 172, 170, 173, 171])\n",
    "print(f'Размах = {np.ptp(s)}')\n",
    "print(f'Проверка размаха: {np.max(s) - np.min(s)}')"
   ]
  },
  {
   "cell_type": "code",
   "execution_count": 2,
   "metadata": {},
   "outputs": [
    {
     "name": "stdout",
     "output_type": "stream",
     "text": [
      "Размах = 28\n",
      "Проверка размаха: 28\n",
      "Стандартное отклонение = 5.902541825349482\n"
     ]
    }
   ],
   "source": [
    "import numpy as np \n",
    "s = np.array([185, 175, 170, 169, 171, 175, 157, 172, 170, 172, 167, 173, 168, 167, 166,\n",
    "              167, 169, 172, 177, 178, 165, 161, 179, 159, 164, 178, 172, 170, 173, 171])\n",
    "print(f'Размах = {np.ptp(s)}')\n",
    "print(f'Проверка размаха: {np.max(s) - np.min(s)}')\n",
    "print(f'Стандартное отклонение = {np.std(s)}')"
   ]
  },
  {
   "cell_type": "code",
   "execution_count": 3,
   "metadata": {},
   "outputs": [
    {
     "name": "stdout",
     "output_type": "stream",
     "text": [
      "Размах = 28\n",
      "Проверка размаха: 28\n",
      "Стандартное отклонение = 5.90\n"
     ]
    }
   ],
   "source": [
    "import numpy as np \n",
    "s = np.array([185, 175, 170, 169, 171, 175, 157, 172, 170, 172, 167, 173, 168, 167, 166,\n",
    "              167, 169, 172, 177, 178, 165, 161, 179, 159, 164, 178, 172, 170, 173, 171])\n",
    "print(f'Размах = {np.ptp(s)}')\n",
    "print(f'Проверка размаха: {np.max(s) - np.min(s)}')\n",
    "print(f'Стандартное отклонение = {np.std(s):.2f}') "
   ]
  },
  {
   "cell_type": "code",
   "execution_count": 4,
   "metadata": {},
   "outputs": [
    {
     "name": "stdout",
     "output_type": "stream",
     "text": [
      "Размах = 28\n",
      "Проверка размаха: 28\n",
      "Стандартное отклонение = 5.90\n",
      "Стандартное отклонение = 6.00\n"
     ]
    }
   ],
   "source": [
    "import numpy as np \n",
    "s = np.array([185, 175, 170, 169, 171, 175, 157, 172, 170, 172, 167, 173, 168, 167, 166,\n",
    "              167, 169, 172, 177, 178, 165, 161, 179, 159, 164, 178, 172, 170, 173, 171])\n",
    "print(f'Размах = {np.ptp(s)}')\n",
    "print(f'Проверка размаха: {np.max(s) - np.min(s)}')\n",
    "print(f'Стандартное отклонение = {np.std(s):.2f}') # для генеральной совокупности \n",
    "print(f'Стандартное отклонение = {np.std(s, ddof=1):.2f}')"
   ]
  },
  {
   "cell_type": "code",
   "execution_count": 7,
   "metadata": {},
   "outputs": [
    {
     "name": "stdout",
     "output_type": "stream",
     "text": [
      "Размах = 28\n",
      "Проверка размаха: 28\n",
      "Стандартное отклонение = 5.90\n",
      "Квантили: 170.5\n"
     ]
    }
   ],
   "source": [
    "import numpy as np \n",
    "s = np.array([185, 175, 170, 169, 171, 175, 157, 172, 170, 172, 167, 173, 168, 167, 166,\n",
    "              167, 169, 172, 177, 178, 165, 161, 179, 159, 164, 178, 172, 170, 173, 171])\n",
    "print(f'Размах = {np.ptp(s)}')\n",
    "print(f'Проверка размаха: {np.max(s) - np.min(s)}')\n",
    "print(f'Стандартное отклонение = {np.std(s):.2f}') # для генеральной совокупности \n",
    "print(f'Квантили: {np.quantile(s, 0.5)}')"
   ]
  },
  {
   "cell_type": "code",
   "execution_count": 8,
   "metadata": {},
   "outputs": [
    {
     "name": "stdout",
     "output_type": "stream",
     "text": [
      "Размах = 28\n",
      "Проверка размаха: 28\n",
      "Стандартное отклонение = 5.90\n",
      "Квантили: 178.0\n"
     ]
    }
   ],
   "source": [
    "import numpy as np \n",
    "s = np.array([185, 175, 170, 169, 171, 175, 157, 172, 170, 172, 167, 173, 168, 167, 166,\n",
    "              167, 169, 172, 177, 178, 165, 161, 179, 159, 164, 178, 172, 170, 173, 171])\n",
    "print(f'Размах = {np.ptp(s)}')\n",
    "print(f'Проверка размаха: {np.max(s) - np.min(s)}')\n",
    "print(f'Стандартное отклонение = {np.std(s):.2f}') # для генеральной совокупности \n",
    "print(f'Квантили: {np.quantile(s, 0.9)}')"
   ]
  },
  {
   "cell_type": "code",
   "execution_count": 10,
   "metadata": {},
   "outputs": [
    {
     "name": "stdout",
     "output_type": "stream",
     "text": [
      "WARNING: pip is being invoked by an old script wrapper. This will fail in a future version of pip.\n",
      "Please see https://github.com/pypa/pip/issues/5599 for advice on fixing the underlying issue.\n",
      "To avoid this problem you can invoke Python with '-m pip' instead of running pip directly.\n",
      "Collecting matplotlib\n",
      "  Downloading matplotlib-3.5.3-cp37-cp37m-manylinux_2_5_x86_64.manylinux1_x86_64.whl (11.2 MB)\n",
      "\u001b[2K     \u001b[38;2;114;156;31m━━━━━━━━━━━━━━━━━━━━━━━━━━━━━━━━━━━━━━━━\u001b[0m \u001b[32m11.2/11.2 MB\u001b[0m \u001b[31m4.4 MB/s\u001b[0m eta \u001b[36m0:00:00\u001b[0mm eta \u001b[36m0:00:01\u001b[0m[36m0:00:01\u001b[0m\n",
      "\u001b[?25hCollecting kiwisolver>=1.0.1\n",
      "  Downloading kiwisolver-1.4.4-cp37-cp37m-manylinux_2_5_x86_64.manylinux1_x86_64.whl (1.1 MB)\n",
      "\u001b[2K     \u001b[38;2;114;156;31m━━━━━━━━━━━━━━━━━━━━━━━━━━━━━━━━━━━━━━━━\u001b[0m \u001b[32m1.1/1.1 MB\u001b[0m \u001b[31m5.6 MB/s\u001b[0m eta \u001b[36m0:00:00\u001b[0mm eta \u001b[36m0:00:01\u001b[0m[36m0:00:01\u001b[0m\n",
      "\u001b[?25hCollecting fonttools>=4.22.0\n",
      "  Downloading fonttools-4.37.4-py3-none-any.whl (960 kB)\n",
      "\u001b[2K     \u001b[38;2;114;156;31m━━━━━━━━━━━━━━━━━━━━━━━━━━━━━━━━━━━━━━━\u001b[0m \u001b[32m960.8/960.8 kB\u001b[0m \u001b[31m5.6 MB/s\u001b[0m eta \u001b[36m0:00:00\u001b[0m[36m0:00:01\u001b[0mm eta \u001b[36m0:00:01\u001b[0m\n",
      "\u001b[?25hRequirement already satisfied: python-dateutil>=2.7 in /snap/jupyter/6/lib/python3.7/site-packages (from matplotlib) (2.8.0)\n",
      "Collecting pyparsing>=2.2.1\n",
      "  Downloading pyparsing-3.0.9-py3-none-any.whl (98 kB)\n",
      "\u001b[2K     \u001b[38;2;114;156;31m━━━━━━━━━━━━━━━━━━━━━━━━━━━━━━━━━━━━━━━━\u001b[0m \u001b[32m98.3/98.3 kB\u001b[0m \u001b[31m5.1 MB/s\u001b[0m eta \u001b[36m0:00:00\u001b[0m\n",
      "\u001b[?25hCollecting packaging>=20.0\n",
      "  Downloading packaging-21.3-py3-none-any.whl (40 kB)\n",
      "\u001b[2K     \u001b[38;2;114;156;31m━━━━━━━━━━━━━━━━━━━━━━━━━━━━━━━━━━━━━━━━\u001b[0m \u001b[32m40.8/40.8 kB\u001b[0m \u001b[31m6.1 MB/s\u001b[0m eta \u001b[36m0:00:00\u001b[0m\n",
      "\u001b[?25hCollecting pillow>=6.2.0\n",
      "  Downloading Pillow-9.2.0-cp37-cp37m-manylinux_2_17_x86_64.manylinux2014_x86_64.whl (3.1 MB)\n",
      "\u001b[2K     \u001b[38;2;114;156;31m━━━━━━━━━━━━━━━━━━━━━━━━━━━━━━━━━━━━━━━━\u001b[0m \u001b[32m3.1/3.1 MB\u001b[0m \u001b[31m4.7 MB/s\u001b[0m eta \u001b[36m0:00:00\u001b[0mm eta \u001b[36m0:00:01\u001b[0m[36m0:00:01\u001b[0m\n",
      "\u001b[?25hCollecting cycler>=0.10\n",
      "  Downloading cycler-0.11.0-py3-none-any.whl (6.4 kB)\n",
      "Requirement already satisfied: numpy>=1.17 in /home/malik/snap/jupyter/common/lib/python3.7/site-packages (from matplotlib) (1.21.6)\n",
      "Collecting typing-extensions\n",
      "  Downloading typing_extensions-4.4.0-py3-none-any.whl (26 kB)\n",
      "Requirement already satisfied: six>=1.5 in /snap/jupyter/6/lib/python3.7/site-packages (from python-dateutil>=2.7->matplotlib) (1.12.0)\n",
      "Installing collected packages: typing-extensions, pyparsing, pillow, fonttools, cycler, packaging, kiwisolver, matplotlib\n",
      "Successfully installed cycler-0.11.0 fonttools-4.37.4 kiwisolver-1.4.4 matplotlib-3.5.3 packaging-21.3 pillow-9.2.0 pyparsing-3.0.9 typing-extensions-4.4.0\n"
     ]
    }
   ],
   "source": [
    "! pip install matplotlib"
   ]
  },
  {
   "cell_type": "code",
   "execution_count": 3,
   "metadata": {},
   "outputs": [
    {
     "data": {
      "image/png": "[encoded data removed]",
      "text/plain": [
       "<Figure size 432x288 with 1 Axes>"
      ]
     },
     "metadata": {
      "needs_background": "light"
     },
     "output_type": "display_data"
    }
   ],
   "source": [
    "import numpy as np \n",
    "import matplotlib.pyplot as plt\n",
    "s = np.array([185, 175, 170, 169, 171, 175, 157, 172, 170, 172, 167, 173, 168, 167, 166,\n",
    "              167, 169, 172, 177, 178, 165, 161, 179, 159, 164, 178, 172, 170, 173, 171])\n",
    "plt.boxplot(s, showfliers=1)\n",
    "plt.show()"
   ]
  },
  {
   "cell_type": "code",
   "execution_count": 1,
   "metadata": {},
   "outputs": [
    {
     "name": "stdout",
     "output_type": "stream",
     "text": [
      "WARNING: pip is being invoked by an old script wrapper. This will fail in a future version of pip.\n",
      "Please see https://github.com/pypa/pip/issues/5599 for advice on fixing the underlying issue.\n",
      "To avoid this problem you can invoke Python with '-m pip' instead of running pip directly.\n",
      "Collecting seaborn\n",
      "  Downloading seaborn-0.12.0-py3-none-any.whl (285 kB)\n",
      "\u001b[2K     \u001b[38;2;114;156;31m━━━━━━━━━━━━━━━━━━━━━━━━━━━━━━━━━━━━━━━\u001b[0m \u001b[32m285.1/285.1 kB\u001b[0m \u001b[31m1.0 MB/s\u001b[0m eta \u001b[36m0:00:00\u001b[0m[31m1.0 MB/s\u001b[0m eta \u001b[36m0:00:01\u001b[0m\n",
      "\u001b[?25hRequirement already satisfied: matplotlib>=3.1 in /home/malik/snap/jupyter/common/lib/python3.7/site-packages (from seaborn) (3.5.3)\n",
      "Requirement already satisfied: typing_extensions in /home/malik/snap/jupyter/common/lib/python3.7/site-packages (from seaborn) (4.4.0)\n",
      "Requirement already satisfied: numpy>=1.17 in /home/malik/snap/jupyter/common/lib/python3.7/site-packages (from seaborn) (1.21.6)\n",
      "Requirement already satisfied: pandas>=0.25 in /home/malik/snap/jupyter/common/lib/python3.7/site-packages (from seaborn) (1.3.5)\n",
      "Requirement already satisfied: cycler>=0.10 in /home/malik/snap/jupyter/common/lib/python3.7/site-packages (from matplotlib>=3.1->seaborn) (0.11.0)\n",
      "Requirement already satisfied: python-dateutil>=2.7 in /snap/jupyter/6/lib/python3.7/site-packages (from matplotlib>=3.1->seaborn) (2.8.0)\n",
      "Requirement already satisfied: packaging>=20.0 in /home/malik/snap/jupyter/common/lib/python3.7/site-packages (from matplotlib>=3.1->seaborn) (21.3)\n",
      "Requirement already satisfied: pyparsing>=2.2.1 in /home/malik/snap/jupyter/common/lib/python3.7/site-packages (from matplotlib>=3.1->seaborn) (3.0.9)\n",
      "Requirement already satisfied: pillow>=6.2.0 in /home/malik/snap/jupyter/common/lib/python3.7/site-packages (from matplotlib>=3.1->seaborn) (9.2.0)\n",
      "Requirement already satisfied: kiwisolver>=1.0.1 in /home/malik/snap/jupyter/common/lib/python3.7/site-packages (from matplotlib>=3.1->seaborn) (1.4.4)\n",
      "Requirement already satisfied: fonttools>=4.22.0 in /home/malik/snap/jupyter/common/lib/python3.7/site-packages (from matplotlib>=3.1->seaborn) (4.37.4)\n",
      "Requirement already satisfied: pytz>=2017.3 in /home/malik/snap/jupyter/common/lib/python3.7/site-packages (from pandas>=0.25->seaborn) (2022.4)\n",
      "Requirement already satisfied: six>=1.5 in /snap/jupyter/6/lib/python3.7/site-packages (from python-dateutil>=2.7->matplotlib>=3.1->seaborn) (1.12.0)\n",
      "Installing collected packages: seaborn\n",
      "Successfully installed seaborn-0.12.0\n"
     ]
    }
   ],
   "source": [
    "! pip install seaborn "
   ]
  },
  {
   "cell_type": "code",
   "execution_count": 3,
   "metadata": {},
   "outputs": [
    {
     "data": {
      "text/plain": [
       "<AxesSubplot:>"
      ]
     },
     "execution_count": 3,
     "metadata": {},
     "output_type": "execute_result"
    },
    {
     "data": {
      "image/png": "[encoded data removed]",
      "text/plain": [
       "<Figure size 432x288 with 1 Axes>"
      ]
     },
     "metadata": {
      "needs_background": "light"
     },
     "output_type": "display_data"
    }
   ],
   "source": [
    "'''Доска Гамильтона, демонстрирующая нормальное распределение'''\n",
    "import seaborn as sns\n",
    "import numpy as np\n",
    "data = dict()\n",
    "balls = 5000 # кол-во шариков \n",
    "levels = 20 # кол-во уровней(отделов) в доске \n",
    "for i in range(balls): \n",
    "    index = 0\n",
    "    for i in range(levels):\n",
    "        index += np.random.choice([-1, 1]) # имитация движения шарика через сито \n",
    "    data.setdefault(index, 0)\n",
    "    data[index] += 1\n",
    "sns.barplot(x=list(data.keys()), y=list(data.values()))"
   ]
  },
  {
   "cell_type": "code",
   "execution_count": 4,
   "metadata": {},
   "outputs": [
    {
     "data": {
      "text/plain": [
       "<AxesSubplot:>"
      ]
     },
     "execution_count": 4,
     "metadata": {},
     "output_type": "execute_result"
    },
    {
     "data": {
      "image/png": "[encoded data removed]",
      "text/plain": [
       "<Figure size 432x288 with 1 Axes>"
      ]
     },
     "metadata": {
      "needs_background": "light"
     },
     "output_type": "display_data"
    }
   ],
   "source": [
    "'''Доска Гамильтона, демонстрирующая нормальное распределение'''\n",
    "import seaborn as sns\n",
    "import numpy as np\n",
    "data = dict()\n",
    "balls = 10000 # кол-во шариков \n",
    "levels = 18 # кол-во уровней(отделов) в доске \n",
    "for i in range(balls): \n",
    "    index = 0\n",
    "    for i in range(levels):\n",
    "        index += np.random.choice([-1, 1]) # имитация движения шарика через сито \n",
    "    data.setdefault(index, 0)\n",
    "    data[index] += 1\n",
    "sns.barplot(x=list(data.keys()), y=list(data.values()))"
   ]
  },
  {
   "cell_type": "code",
   "execution_count": 5,
   "metadata": {},
   "outputs": [
    {
     "data": {
      "text/plain": [
       "<AxesSubplot:>"
      ]
     },
     "execution_count": 5,
     "metadata": {},
     "output_type": "execute_result"
    },
    {
     "data": {
      "image/png": "[encoded data removed]",
      "text/plain": [
       "<Figure size 432x288 with 1 Axes>"
      ]
     },
     "metadata": {
      "needs_background": "light"
     },
     "output_type": "display_data"
    }
   ],
   "source": [
    "'''Доска Гамильтона, демонстрирующая нормальное распределение'''\n",
    "import seaborn as sns\n",
    "import numpy as np\n",
    "data = dict()\n",
    "balls = 20000 # кол-во шариков \n",
    "levels = 20 # кол-во уровней(отделов) в доске \n",
    "for i in range(balls): \n",
    "    index = 0\n",
    "    for i in range(levels):\n",
    "        index += np.random.choice([-1, 1]) # имитация движения шарика через сито (случайный выбор либо влево(-1), либо прямо(0), либо вправо(+1))\n",
    "    data.setdefault(index, 0)\n",
    "    data[index] += 1\n",
    "sns.barplot(x=list(data.keys()), y=list(data.values()))"
   ]
  },
  {
   "cell_type": "code",
   "execution_count": 2,
   "metadata": {},
   "outputs": [
    {
     "data": {
      "text/plain": [
       "<AxesSubplot:ylabel='Frequency'>"
      ]
     },
     "execution_count": 2,
     "metadata": {},
     "output_type": "execute_result"
    },
    {
     "data": {
      "image/png": "[encoded data removed]",
      "text/plain": [
       "<Figure size 432x288 with 1 Axes>"
      ]
     },
     "metadata": {
      "needs_background": "light"
     },
     "output_type": "display_data"
    }
   ],
   "source": [
    "import numpy as np \n",
    "import pandas as pd \n",
    "import matplotlib.pyplot as plt \n",
    "import math \n",
    "\n",
    "dice = [1, 2, 3, 4, 5, 6]\n",
    "count = 6 \n",
    "sp_size = 10000\n",
    "sp = pd.Series(dtype=np.int64, index=range(sp_size))\n",
    "for i in range(sp_size): \n",
    "    value = 0 \n",
    "    for j in range(count):\n",
    "        value += np.random.choice(dice)\n",
    "    sp[i] = value \n",
    "sp.plot.hist(bins=28)"
   ]
  },
  {
   "cell_type": "code",
   "execution_count": 6,
   "metadata": {},
   "outputs": [
    {
     "data": {
      "image/png": "[encoded data removed]",
      "text/plain": [
       "<Figure size 1152x720 with 12 Axes>"
      ]
     },
     "metadata": {
      "needs_background": "light"
     },
     "output_type": "display_data"
    }
   ],
   "source": [
    "count = 10 \n",
    "size = 300 \n",
    "s = pd.DataFrame([[np.random.choice(sp) for i in range(size)] for i in range(count)]).T \n",
    "s.hist(figsize=(16, 10), sharex=0)\n",
    "plt.subplots_adjust(hspace=0.6)"
   ]
  },
  {
   "cell_type": "code",
   "execution_count": 7,
   "metadata": {},
   "outputs": [
    {
     "name": "stdout",
     "output_type": "stream",
     "text": [
      "Сравним средние значения: 20.9895 and 20.97\n"
     ]
    }
   ],
   "source": [
    "means = s.mean()\n",
    "print(f'Сравним средние значения: {sp.mean()} and {means.mean()}')"
   ]
  },
  {
   "cell_type": "code",
   "execution_count": 6,
   "metadata": {},
   "outputs": [
    {
     "name": "stdout",
     "output_type": "stream",
     "text": [
      "[8.71, 11.29]\n"
     ]
    }
   ],
   "source": [
    "'''Рассчитайте 99% доверительный интервал для следующего примера: \n",
    "среднее = 10, стандартное отклонение = 5, размер выборки = 100'''\n",
    "from numpy import sqrt\n",
    "from scipy import stats\n",
    "\n",
    "p = 0.99 \n",
    "mean = 10 \n",
    "std = 5 \n",
    "n = 100\n",
    "\n",
    "se = std / sqrt(n)\n",
    "alpha = (1 - p) / 2 \n",
    "sigma = stats.norm().isf(alpha)\n",
    "interval = mean - sigma * se, mean + sigma * se\n",
    "print('[%.2f, %.2f]' % interval)\n"
   ]
  },
  {
   "cell_type": "code",
   "execution_count": 7,
   "metadata": {},
   "outputs": [
    {
     "data": {
      "text/plain": [
       "'График снизу покажет, как меняется форма распределения при увеличение количества степеней свободы.\\nА также показывает приближение Т-распределения к нормальному по мере увеличения степеней свободы.'"
      ]
     },
     "execution_count": 7,
     "metadata": {},
     "output_type": "execute_result"
    }
   ],
   "source": [
    "'''График снизу покажет, как меняется форма распределения при увеличение количества степеней свободы.\n",
    "А также показывает приближение Т-распределения к нормальному по мере увеличения степеней свободы.'''"
   ]
  },
  {
   "cell_type": "code",
   "execution_count": 10,
   "metadata": {},
   "outputs": [
    {
     "data": {
      "image/png": "[encoded data removed]",
      "text/plain": [
       "<Figure size 432x288 with 1 Axes>"
      ]
     },
     "metadata": {
      "needs_background": "light"
     },
     "output_type": "display_data"
    }
   ],
   "source": [
    "'''График снизу покажет, как меняется форма распределения при увеличение количества степеней свободы.\n",
    "А также показывает приближение Т-распределения к нормальному по мере увеличения степеней свободы.'''\n",
    "from scipy.stats import t, norm\n",
    "import numpy as np\n",
    "import matplotlib.pyplot as plt\n",
    "\n",
    "x = np.linspace(-5, 5)\n",
    "y1 = t.pdf(x, df=1)\n",
    "y2 = t.pdf(x, df=3)\n",
    "y3 = t.pdf(x, df=10)\n",
    "y4 = norm.pdf(x)\n",
    "\n",
    "plt.title('График Т-распределений с разными степенями свободы')\n",
    "plt.plot(x, y1)\n",
    "plt.plot(x, y2)\n",
    "plt.plot(x, y3)\n",
    "plt.plot(x, y4, 'r:')\n",
    "plt.legend(('сс=1', 'сс=3', 'сс=10', 'норма'))\n",
    "plt.show()\n"
   ]
  },
  {
   "cell_type": "code",
   "execution_count": 13,
   "metadata": {},
   "outputs": [
    {
     "name": "stdout",
     "output_type": "stream",
     "text": [
      "p = 0.055\n"
     ]
    }
   ],
   "source": [
    "'''На выборке в 15 наблюдений при помощи одновыборочного t-теста\n",
    "проверяется нулевая гипотеза: μ=10 \n",
    "и рассчитанное t-значение = -2, то p-уровень значимости(двусторонний) равен:\n",
    "'''\n",
    "from scipy import stats\n",
    "\n",
    "t = -2\n",
    "n = 30\n",
    "df = n - 1\n",
    "\n",
    "p = 2 * stats.t.sf(abs(t), df)\n",
    "print(f'p = {p:.3f}')"
   ]
  },
  {
   "cell_type": "code",
   "execution_count": 29,
   "metadata": {},
   "outputs": [
    {
     "name": "stderr",
     "output_type": "stream",
     "text": [
      "/snap/jupyter/6/lib/python3.7/site-packages/ipykernel_launcher.py:25: UserWarning: marker is redundantly defined by the 'marker' keyword argument and the fmt string \"o\" (-> marker='o'). The keyword argument will take precedence.\n"
     ]
    },
    {
     "data": {
      "image/png": "[encoded data removed]",
      "text/plain": [
       "<Figure size 1008x648 with 2 Axes>"
      ]
     },
     "metadata": {
      "needs_background": "light"
     },
     "output_type": "display_data"
    }
   ],
   "source": [
    "'''Задача: Первая выборка — это пациенты, которых лечили препаратом А. Вторая выборка — пациенты, которых лечили \n",
    "препаратом Б. Значения в выборках — это температура плавления ДНК после приема препарата.\n",
    "Требуется выяснить, имеется ли значимое различие эффективности препаратов А и Б, или различия являются \n",
    "чисто случайными и объясняются «естественной» дисперсией выбранной характеристики.'''\n",
    "\n",
    "import pandas as pd\n",
    "from scipy.stats import t\n",
    "import matplotlib.pyplot as plt\n",
    "import numpy as np\n",
    "\n",
    "array1 = np.array([84.7, 105.0, 98.9, 97.9, 108.7, 81.3, 99.4, 89.4, 93.0,\n",
    "                   119.3, 99.2, 99.4, 97.1, 112.4, 99.8, 94.7, 114.0, 95.1, 115.5, 111.5])\n",
    "array2 = np.array([57.2, 68.6, 104.4, 95.1, 89.9, 70.8, 83.5, 60.1, 75.7,\n",
    "                   102.0, 69.0, 79.6, 68.9, 98.6, 76.0, 74.8, 56.0, 55.6, 69.4, 59.5])\n",
    "\n",
    "df = pd.DataFrame({'Выборка 1': array1, 'Выборка 2': array2}).agg(['mean', 'std', 'count', 'sem']).transpose() # mean - среднее, std - стандартное отклонение, count - число наблюдений, sem - стандартная ошибка \n",
    "df.columns = ['Mx','SD','N','SE']\n",
    "p = 0.95\n",
    "k = t.ppf((1 + p)/2, df['Mx']-1)\n",
    "df['interval'] = k * df['SE'] # рассчитываем 95% доверительный интервал отклонения\n",
    "\n",
    "fig, (ax1, ax2) = plt.subplots(nrows=1, ncols=2, figsize=(14, 9)) # создаем 2 графика для выборок и доверительных интервалов\n",
    "boxplot_samples = ax1.boxplot([array1, array2], vert=True, patch_artist=True, labels=['Выборка1', 'Выборка2']) \n",
    "boxplot_intervals = ax2.errorbar(x=df.index, y=df['Mx'], yerr=df['interval'], color='black', \\\n",
    "                                 capsize=4, marker=\"s\", markersize=6, mfc=\"red\", mec=\"black\", fmt ='o')\n",
    "\n",
    "colors = ['lightgreen', 'blue']\n",
    "for patch, color in zip(boxplot_samples['boxes'], colors):\n",
    "    patch.set_facecolor(color)\n",
    "    \n",
    "for ax in [ax1, ax2]:\n",
    "    ax.yaxis.grid(True)\n",
    "    ax.set_title('ТЕмпература плавления ДНК')\n",
    "    ax.set_xlabel('Сравнение двух выборок')\n",
    "    ax.set_ylabel('Температура Фаренгейт')\n",
    "    \n",
    "plt.show()"
   ]
  },
  {
   "cell_type": "code",
   "execution_count": null,
   "metadata": {},
   "outputs": [],
   "source": []
  }
 ],
 "metadata": {
  "kernelspec": {
   "display_name": "Python 3",
   "language": "python",
   "name": "python3"
  },
  "language_info": {
   "codemirror_mode": {
    "name": "ipython",
    "version": 3
   },
   "file_extension": ".py",
   "mimetype": "text/x-python",
   "name": "python",
   "nbconvert_exporter": "python",
   "pygments_lexer": "ipython3",
   "version": "3.7.3"
  }
 },
 "nbformat": 4,
 "nbformat_minor": 2
}
